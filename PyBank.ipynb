{
 "cells": [
  {
   "cell_type": "code",
   "execution_count": null,
   "metadata": {},
   "outputs": [],
   "source": [
    "import pandas as pd\n",
    "import numpy as num\n",
    "import os"
   ]
  },
  {
   "cell_type": "code",
   "execution_count": null,
   "metadata": {},
   "outputs": [],
   "source": [
    "budget_csv_path = os.path.join(\"Resources\", \"budget_data.csv\")\n",
    "print(budget_csv_path)"
   ]
  },
  {
   "cell_type": "code",
   "execution_count": null,
   "metadata": {},
   "outputs": [],
   "source": [
    "budget_df = pd.read_csv(budget_csv_path, encoding=\"ISO-8859-1\")"
   ]
  },
  {
   "cell_type": "code",
   "execution_count": null,
   "metadata": {},
   "outputs": [],
   "source": [
    "budget_df.head()"
   ]
  },
  {
   "cell_type": "code",
   "execution_count": null,
   "metadata": {},
   "outputs": [],
   "source": [
    "TotalPFDates = len(budget_df[\"Date\"].unique())\n",
    "TotalPFDates"
   ]
  },
  {
   "cell_type": "code",
   "execution_count": null,
   "metadata": {},
   "outputs": [],
   "source": [
    "TotalPL = budget_df[\"Profit/Losses\"].sum()\n",
    "TotalPL"
   ]
  },
  {
   "cell_type": "code",
   "execution_count": null,
   "metadata": {},
   "outputs": [],
   "source": [
    "budget_df[\"priorPF\"] = budget_df[\"Profit/Losses\"].shift(1)\n",
    "\n",
    "budget_df.head()"
   ]
  },
  {
   "cell_type": "code",
   "execution_count": null,
   "metadata": {},
   "outputs": [],
   "source": [
    "budget_df[\"PF_Change\"] = budget_df[\"Profit/Losses\"] - budget_df[\"priorPF\"]\n",
    "\n",
    "budget_df.head()"
   ]
  },
  {
   "cell_type": "code",
   "execution_count": null,
   "metadata": {},
   "outputs": [],
   "source": [
    "budget_df.iloc[1:4]"
   ]
  },
  {
   "cell_type": "code",
   "execution_count": null,
   "metadata": {},
   "outputs": [],
   "source": [
    "average = round(budget_df['PF_Change'].mean(),2)\n",
    "maximum = budget_df['PF_Change'].max()\n",
    "minimum = budget_df['PF_Change'].min()\n",
    "\n"
   ]
  },
  {
   "cell_type": "code",
   "execution_count": null,
   "metadata": {},
   "outputs": [],
   "source": [
    "print(\"Financial Analysis\")\n",
    "print(\"------------------\")\n",
    "print(f\"Total Profit/Loss: {TotalPL}\")\n",
    "print(f\"Total Months: {TotalPFDates}\")\n",
    "print(f\"Average Change: {average}\")\n",
    "print(f\"Greatest Increase in Profits: {maximum}\")\n",
    "print(f\"Greatest Decrease in Profits: {minimum}\")\n"
   ]
  },
  {
   "cell_type": "code",
   "execution_count": null,
   "metadata": {},
   "outputs": [],
   "source": [
    "import sys\n",
    "sys.stdout = open('budget_out.csv', 'w')\n",
    "print(\"Financial Analysis\")\n",
    "print(\"------------------\")\n",
    "print(f\"Total Profit/Loss: {TotalPL}\")\n",
    "print(f\"Total Months: {TotalPFDates}\")\n",
    "print(f\"Average Change: {average}\")\n",
    "print(f\"Greatest Increase in Profits: {maximum}\")\n",
    "print(f\"Greatest Decrease in Profits: {minimum}\")\n"
   ]
  },
  {
   "cell_type": "code",
   "execution_count": null,
   "metadata": {},
   "outputs": [],
   "source": []
  }
 ],
 "metadata": {
  "kernelspec": {
   "display_name": "Python 3",
   "language": "python",
   "name": "python3"
  },
  "language_info": {
   "codemirror_mode": {
    "name": "ipython",
    "version": 3
   },
   "file_extension": ".py",
   "mimetype": "text/x-python",
   "name": "python",
   "nbconvert_exporter": "python",
   "pygments_lexer": "ipython3",
   "version": "3.7.0"
  }
 },
 "nbformat": 4,
 "nbformat_minor": 2
}
